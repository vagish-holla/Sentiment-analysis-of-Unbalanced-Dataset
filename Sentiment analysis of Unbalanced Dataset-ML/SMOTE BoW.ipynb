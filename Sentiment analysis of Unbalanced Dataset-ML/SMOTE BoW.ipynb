{
 "cells": [
  {
   "cell_type": "code",
   "execution_count": 1,
   "metadata": {},
   "outputs": [
    {
     "name": "stdout",
     "output_type": "stream",
     "text": [
      "Requirement already satisfied: xgboost in c:\\programdata\\anaconda3\\lib\\site-packages (1.1.1)\n",
      "Requirement already satisfied: numpy in c:\\programdata\\anaconda3\\lib\\site-packages (from xgboost) (1.18.5)\n",
      "Requirement already satisfied: scipy in c:\\programdata\\anaconda3\\lib\\site-packages (from xgboost) (1.5.0)\n",
      "Requirement already satisfied: nltk in c:\\programdata\\anaconda3\\lib\\site-packages (3.5)\n",
      "Requirement already satisfied: regex in c:\\programdata\\anaconda3\\lib\\site-packages (from nltk) (2020.6.8)\n",
      "Requirement already satisfied: joblib in c:\\programdata\\anaconda3\\lib\\site-packages (from nltk) (0.16.0)\n",
      "Requirement already satisfied: click in c:\\programdata\\anaconda3\\lib\\site-packages (from nltk) (7.1.2)\n",
      "Requirement already satisfied: tqdm in c:\\programdata\\anaconda3\\lib\\site-packages (from nltk) (4.47.0)\n"
     ]
    },
    {
     "name": "stderr",
     "output_type": "stream",
     "text": [
      "[nltk_data] Downloading package punkt to C:\\Users\\ML\n",
      "[nltk_data]     DL\\AppData\\Roaming\\nltk_data...\n",
      "[nltk_data]   Package punkt is already up-to-date!\n",
      "[nltk_data] Downloading package stopwords to C:\\Users\\ML\n",
      "[nltk_data]     DL\\AppData\\Roaming\\nltk_data...\n",
      "[nltk_data]   Package stopwords is already up-to-date!\n"
     ]
    }
   ],
   "source": [
    "import numpy as np\n",
    "import pandas as pd\n",
    "import matplotlib.pyplot as plt\n",
    "import seaborn as sns\n",
    "import matplotlib.patheffects as path_effects\n",
    "import random\n",
    "from random import randint\n",
    "from tqdm import tqdm\n",
    "\n",
    "from sklearn.decomposition import PCA\n",
    "from sklearn.manifold import TSNE\n",
    "from sklearn.preprocessing import StandardScaler\n",
    "\n",
    "from sklearn.model_selection import train_test_split\n",
    "from sklearn.metrics import accuracy_score\n",
    "from sklearn.metrics import confusion_matrix\n",
    "from sklearn.metrics import classification_report\n",
    "#from sklearn.metrics import plot_roc_curve #require python 3.5 or higher version\n",
    "!pip install xgboost\n",
    "from sklearn.naive_bayes import MultinomialNB\n",
    "from sklearn.model_selection import GridSearchCV\n",
    "from sklearn.neighbors import KNeighborsClassifier\n",
    "from sklearn.svm import SVC\n",
    "from sklearn.linear_model import LogisticRegression\n",
    "from sklearn.tree import DecisionTreeClassifier\n",
    "from sklearn.ensemble import RandomForestClassifier\n",
    "from xgboost import XGBClassifier\n",
    "\n",
    "import re\n",
    "!pip install nltk\n",
    "import nltk\n",
    "nltk.download('punkt')\n",
    "nltk.download('stopwords')\n",
    "from nltk.tokenize import word_tokenize \n",
    "from nltk.corpus import stopwords \n",
    "from nltk.stem import WordNetLemmatizer\n",
    "from nltk.stem import PorterStemmer\n",
    "from sklearn.feature_extraction.text import TfidfVectorizer"
   ]
  },
  {
   "cell_type": "code",
   "execution_count": 2,
   "metadata": {},
   "outputs": [],
   "source": [
    "unfilteredData = pd.read_csv(\"Musical_instruments_reviews.csv\")"
   ]
  },
  {
   "cell_type": "code",
   "execution_count": 3,
   "metadata": {},
   "outputs": [],
   "source": [
    "#Convert 'reviewText' and 'summary' column into 'string' type\n",
    "\n",
    "unfilteredData.reviewText=unfilteredData.reviewText.astype(str)\n",
    "unfilteredData.summary=unfilteredData.summary.astype(str)"
   ]
  },
  {
   "cell_type": "code",
   "execution_count": 4,
   "metadata": {},
   "outputs": [
    {
     "name": "stdout",
     "output_type": "stream",
     "text": [
      "<class 'pandas.core.frame.DataFrame'>\n",
      "RangeIndex: 10261 entries, 0 to 10260\n",
      "Data columns (total 9 columns):\n",
      " #   Column          Non-Null Count  Dtype  \n",
      "---  ------          --------------  -----  \n",
      " 0   reviewerID      10261 non-null  object \n",
      " 1   asin            10261 non-null  object \n",
      " 2   reviewerName    10234 non-null  object \n",
      " 3   helpful         10261 non-null  object \n",
      " 4   reviewText      10261 non-null  object \n",
      " 5   overall         10261 non-null  float64\n",
      " 6   summary         10261 non-null  object \n",
      " 7   unixReviewTime  10261 non-null  int64  \n",
      " 8   reviewTime      10261 non-null  object \n",
      "dtypes: float64(1), int64(1), object(7)\n",
      "memory usage: 721.6+ KB\n"
     ]
    }
   ],
   "source": [
    "unfilteredData.info()"
   ]
  },
  {
   "cell_type": "code",
   "execution_count": 5,
   "metadata": {},
   "outputs": [
    {
     "name": "stdout",
     "output_type": "stream",
     "text": [
      "Data size shape (10261, 9)\n"
     ]
    },
    {
     "data": {
      "text/html": [
       "<div>\n",
       "<style scoped>\n",
       "    .dataframe tbody tr th:only-of-type {\n",
       "        vertical-align: middle;\n",
       "    }\n",
       "\n",
       "    .dataframe tbody tr th {\n",
       "        vertical-align: top;\n",
       "    }\n",
       "\n",
       "    .dataframe thead th {\n",
       "        text-align: right;\n",
       "    }\n",
       "</style>\n",
       "<table border=\"1\" class=\"dataframe\">\n",
       "  <thead>\n",
       "    <tr style=\"text-align: right;\">\n",
       "      <th></th>\n",
       "      <th>reviewerID</th>\n",
       "      <th>asin</th>\n",
       "      <th>reviewerName</th>\n",
       "      <th>helpful</th>\n",
       "      <th>reviewText</th>\n",
       "      <th>overall</th>\n",
       "      <th>summary</th>\n",
       "      <th>unixReviewTime</th>\n",
       "      <th>reviewTime</th>\n",
       "    </tr>\n",
       "  </thead>\n",
       "  <tbody>\n",
       "    <tr>\n",
       "      <th>0</th>\n",
       "      <td>A2IBPI20UZIR0U</td>\n",
       "      <td>1384719342</td>\n",
       "      <td>cassandra tu \"Yeah, well, that's just like, u...</td>\n",
       "      <td>[0, 0]</td>\n",
       "      <td>Not much to write about here, but it does exac...</td>\n",
       "      <td>5.0</td>\n",
       "      <td>good</td>\n",
       "      <td>1393545600</td>\n",
       "      <td>02 28, 2014</td>\n",
       "    </tr>\n",
       "    <tr>\n",
       "      <th>1</th>\n",
       "      <td>A14VAT5EAX3D9S</td>\n",
       "      <td>1384719342</td>\n",
       "      <td>Jake</td>\n",
       "      <td>[13, 14]</td>\n",
       "      <td>The product does exactly as it should and is q...</td>\n",
       "      <td>5.0</td>\n",
       "      <td>Jake</td>\n",
       "      <td>1363392000</td>\n",
       "      <td>03 16, 2013</td>\n",
       "    </tr>\n",
       "    <tr>\n",
       "      <th>2</th>\n",
       "      <td>A195EZSQDW3E21</td>\n",
       "      <td>1384719342</td>\n",
       "      <td>Rick Bennette \"Rick Bennette\"</td>\n",
       "      <td>[1, 1]</td>\n",
       "      <td>The primary job of this device is to block the...</td>\n",
       "      <td>5.0</td>\n",
       "      <td>It Does The Job Well</td>\n",
       "      <td>1377648000</td>\n",
       "      <td>08 28, 2013</td>\n",
       "    </tr>\n",
       "    <tr>\n",
       "      <th>3</th>\n",
       "      <td>A2C00NNG1ZQQG2</td>\n",
       "      <td>1384719342</td>\n",
       "      <td>RustyBill \"Sunday Rocker\"</td>\n",
       "      <td>[0, 0]</td>\n",
       "      <td>Nice windscreen protects my MXL mic and preven...</td>\n",
       "      <td>5.0</td>\n",
       "      <td>GOOD WINDSCREEN FOR THE MONEY</td>\n",
       "      <td>1392336000</td>\n",
       "      <td>02 14, 2014</td>\n",
       "    </tr>\n",
       "    <tr>\n",
       "      <th>4</th>\n",
       "      <td>A94QU4C90B1AX</td>\n",
       "      <td>1384719342</td>\n",
       "      <td>SEAN MASLANKA</td>\n",
       "      <td>[0, 0]</td>\n",
       "      <td>This pop filter is great. It looks and perform...</td>\n",
       "      <td>5.0</td>\n",
       "      <td>No more pops when I record my vocals.</td>\n",
       "      <td>1392940800</td>\n",
       "      <td>02 21, 2014</td>\n",
       "    </tr>\n",
       "  </tbody>\n",
       "</table>\n",
       "</div>"
      ],
      "text/plain": [
       "       reviewerID        asin  \\\n",
       "0  A2IBPI20UZIR0U  1384719342   \n",
       "1  A14VAT5EAX3D9S  1384719342   \n",
       "2  A195EZSQDW3E21  1384719342   \n",
       "3  A2C00NNG1ZQQG2  1384719342   \n",
       "4   A94QU4C90B1AX  1384719342   \n",
       "\n",
       "                                       reviewerName   helpful  \\\n",
       "0  cassandra tu \"Yeah, well, that's just like, u...    [0, 0]   \n",
       "1                                              Jake  [13, 14]   \n",
       "2                     Rick Bennette \"Rick Bennette\"    [1, 1]   \n",
       "3                         RustyBill \"Sunday Rocker\"    [0, 0]   \n",
       "4                                     SEAN MASLANKA    [0, 0]   \n",
       "\n",
       "                                          reviewText  overall  \\\n",
       "0  Not much to write about here, but it does exac...      5.0   \n",
       "1  The product does exactly as it should and is q...      5.0   \n",
       "2  The primary job of this device is to block the...      5.0   \n",
       "3  Nice windscreen protects my MXL mic and preven...      5.0   \n",
       "4  This pop filter is great. It looks and perform...      5.0   \n",
       "\n",
       "                                 summary  unixReviewTime   reviewTime  \n",
       "0                                   good      1393545600  02 28, 2014  \n",
       "1                                   Jake      1363392000  03 16, 2013  \n",
       "2                   It Does The Job Well      1377648000  08 28, 2013  \n",
       "3          GOOD WINDSCREEN FOR THE MONEY      1392336000  02 14, 2014  \n",
       "4  No more pops when I record my vocals.      1392940800  02 21, 2014  "
      ]
     },
     "execution_count": 5,
     "metadata": {},
     "output_type": "execute_result"
    }
   ],
   "source": [
    "print(\"Data size shape\",unfilteredData.shape)\n",
    "unfilteredData.head()"
   ]
  },
  {
   "cell_type": "code",
   "execution_count": 6,
   "metadata": {},
   "outputs": [
    {
     "data": {
      "text/html": [
       "<div>\n",
       "<style scoped>\n",
       "    .dataframe tbody tr th:only-of-type {\n",
       "        vertical-align: middle;\n",
       "    }\n",
       "\n",
       "    .dataframe tbody tr th {\n",
       "        vertical-align: top;\n",
       "    }\n",
       "\n",
       "    .dataframe thead th {\n",
       "        text-align: right;\n",
       "    }\n",
       "</style>\n",
       "<table border=\"1\" class=\"dataframe\">\n",
       "  <thead>\n",
       "    <tr style=\"text-align: right;\">\n",
       "      <th></th>\n",
       "      <th>index</th>\n",
       "      <th>reviewerID</th>\n",
       "      <th>asin</th>\n",
       "      <th>reviewerName</th>\n",
       "      <th>helpful</th>\n",
       "      <th>reviewText</th>\n",
       "      <th>overall</th>\n",
       "      <th>summary</th>\n",
       "      <th>unixReviewTime</th>\n",
       "      <th>reviewTime</th>\n",
       "    </tr>\n",
       "  </thead>\n",
       "  <tbody>\n",
       "    <tr>\n",
       "      <th>0</th>\n",
       "      <td>4420</td>\n",
       "      <td>AV8MDYLHHTUOY</td>\n",
       "      <td>B000CD3QY2</td>\n",
       "      <td>Amazon Customer \"eyegor\"</td>\n",
       "      <td>[18, 19]</td>\n",
       "      <td>The ability to quickly change the range and se...</td>\n",
       "      <td>4.0</td>\n",
       "      <td>GREAT Wah</td>\n",
       "      <td>1095465600</td>\n",
       "      <td>09 18, 2004</td>\n",
       "    </tr>\n",
       "    <tr>\n",
       "      <th>1</th>\n",
       "      <td>7413</td>\n",
       "      <td>A33H0WC9MI8OVW</td>\n",
       "      <td>B002Q0WT6U</td>\n",
       "      <td>Clare Chu</td>\n",
       "      <td>[12, 13]</td>\n",
       "      <td>Jade rosin gives a extra grippiness to the bow...</td>\n",
       "      <td>5.0</td>\n",
       "      <td>Excellent sticky rosin</td>\n",
       "      <td>1096416000</td>\n",
       "      <td>09 29, 2004</td>\n",
       "    </tr>\n",
       "    <tr>\n",
       "      <th>2</th>\n",
       "      <td>954</td>\n",
       "      <td>A33H0WC9MI8OVW</td>\n",
       "      <td>B0002D0COE</td>\n",
       "      <td>Clare Chu</td>\n",
       "      <td>[9, 11]</td>\n",
       "      <td>This compact humidifier is easily filled with ...</td>\n",
       "      <td>5.0</td>\n",
       "      <td>Very Easy to Use, Non-Messy</td>\n",
       "      <td>1096416000</td>\n",
       "      <td>09 29, 2004</td>\n",
       "    </tr>\n",
       "    <tr>\n",
       "      <th>3</th>\n",
       "      <td>5581</td>\n",
       "      <td>A3SMT15X2QVUR8</td>\n",
       "      <td>B000SZVYLQ</td>\n",
       "      <td>Victoria Tarrani \"writer, editor, artist, des...</td>\n",
       "      <td>[63, 63]</td>\n",
       "      <td>When I purchased this pedal from a local music...</td>\n",
       "      <td>5.0</td>\n",
       "      <td>Competes with many high-end pedals</td>\n",
       "      <td>1101686400</td>\n",
       "      <td>11 29, 2004</td>\n",
       "    </tr>\n",
       "    <tr>\n",
       "      <th>4</th>\n",
       "      <td>1560</td>\n",
       "      <td>A3SMT15X2QVUR8</td>\n",
       "      <td>B0002E2EOE</td>\n",
       "      <td>Victoria Tarrani \"writer, editor, artist, des...</td>\n",
       "      <td>[58, 59]</td>\n",
       "      <td>I purchased this key on a whim.  When it arriv...</td>\n",
       "      <td>5.0</td>\n",
       "      <td>This actually works - and works well</td>\n",
       "      <td>1101686400</td>\n",
       "      <td>11 29, 2004</td>\n",
       "    </tr>\n",
       "    <tr>\n",
       "      <th>...</th>\n",
       "      <td>...</td>\n",
       "      <td>...</td>\n",
       "      <td>...</td>\n",
       "      <td>...</td>\n",
       "      <td>...</td>\n",
       "      <td>...</td>\n",
       "      <td>...</td>\n",
       "      <td>...</td>\n",
       "      <td>...</td>\n",
       "      <td>...</td>\n",
       "    </tr>\n",
       "    <tr>\n",
       "      <th>10256</th>\n",
       "      <td>10119</td>\n",
       "      <td>A1P9JI4TR933JX</td>\n",
       "      <td>B00BU9KCXK</td>\n",
       "      <td>Joseph Durall</td>\n",
       "      <td>[0, 0]</td>\n",
       "      <td>I needed an inexpensive music stand for my gui...</td>\n",
       "      <td>5.0</td>\n",
       "      <td>very nice</td>\n",
       "      <td>1405814400</td>\n",
       "      <td>07 20, 2014</td>\n",
       "    </tr>\n",
       "    <tr>\n",
       "      <th>10257</th>\n",
       "      <td>10215</td>\n",
       "      <td>A27L5L6I7OSV5B</td>\n",
       "      <td>B00HFRXACG</td>\n",
       "      <td>Otto Correct</td>\n",
       "      <td>[0, 0]</td>\n",
       "      <td>These are some bright strings!I play with a pi...</td>\n",
       "      <td>5.0</td>\n",
       "      <td>Great for the price!</td>\n",
       "      <td>1405900800</td>\n",
       "      <td>07 21, 2014</td>\n",
       "    </tr>\n",
       "    <tr>\n",
       "      <th>10258</th>\n",
       "      <td>10253</td>\n",
       "      <td>A2VRAT69JDAD3W</td>\n",
       "      <td>B00JBIVXGC</td>\n",
       "      <td>Jason Whitt \"Whittmeister\"</td>\n",
       "      <td>[0, 0]</td>\n",
       "      <td>I'm a D'Addario man myself, but hey free is fr...</td>\n",
       "      <td>4.0</td>\n",
       "      <td>I'm a D'Addario man myself, but hey free is ...</td>\n",
       "      <td>1405900800</td>\n",
       "      <td>07 21, 2014</td>\n",
       "    </tr>\n",
       "    <tr>\n",
       "      <th>10259</th>\n",
       "      <td>10054</td>\n",
       "      <td>A3DJZHSAW4ANH0</td>\n",
       "      <td>B00BHK2UHI</td>\n",
       "      <td>Chandler</td>\n",
       "      <td>[0, 0]</td>\n",
       "      <td>These are durable, but I get some noise from t...</td>\n",
       "      <td>3.0</td>\n",
       "      <td>Three Stars</td>\n",
       "      <td>1405900800</td>\n",
       "      <td>07 21, 2014</td>\n",
       "    </tr>\n",
       "    <tr>\n",
       "      <th>10260</th>\n",
       "      <td>10258</td>\n",
       "      <td>AWCJ12KBO5VII</td>\n",
       "      <td>B00JBIVXGC</td>\n",
       "      <td>Michael L. Knapp</td>\n",
       "      <td>[0, 0]</td>\n",
       "      <td>I have tried coated strings in the past ( incl...</td>\n",
       "      <td>4.0</td>\n",
       "      <td>Good for coated.</td>\n",
       "      <td>1405987200</td>\n",
       "      <td>07 22, 2014</td>\n",
       "    </tr>\n",
       "  </tbody>\n",
       "</table>\n",
       "<p>10261 rows × 10 columns</p>\n",
       "</div>"
      ],
      "text/plain": [
       "       index      reviewerID        asin  \\\n",
       "0       4420   AV8MDYLHHTUOY  B000CD3QY2   \n",
       "1       7413  A33H0WC9MI8OVW  B002Q0WT6U   \n",
       "2        954  A33H0WC9MI8OVW  B0002D0COE   \n",
       "3       5581  A3SMT15X2QVUR8  B000SZVYLQ   \n",
       "4       1560  A3SMT15X2QVUR8  B0002E2EOE   \n",
       "...      ...             ...         ...   \n",
       "10256  10119  A1P9JI4TR933JX  B00BU9KCXK   \n",
       "10257  10215  A27L5L6I7OSV5B  B00HFRXACG   \n",
       "10258  10253  A2VRAT69JDAD3W  B00JBIVXGC   \n",
       "10259  10054  A3DJZHSAW4ANH0  B00BHK2UHI   \n",
       "10260  10258   AWCJ12KBO5VII  B00JBIVXGC   \n",
       "\n",
       "                                           reviewerName   helpful  \\\n",
       "0                              Amazon Customer \"eyegor\"  [18, 19]   \n",
       "1                                             Clare Chu  [12, 13]   \n",
       "2                                             Clare Chu   [9, 11]   \n",
       "3      Victoria Tarrani \"writer, editor, artist, des...  [63, 63]   \n",
       "4      Victoria Tarrani \"writer, editor, artist, des...  [58, 59]   \n",
       "...                                                 ...       ...   \n",
       "10256                                     Joseph Durall    [0, 0]   \n",
       "10257                                      Otto Correct    [0, 0]   \n",
       "10258                        Jason Whitt \"Whittmeister\"    [0, 0]   \n",
       "10259                                          Chandler    [0, 0]   \n",
       "10260                                  Michael L. Knapp    [0, 0]   \n",
       "\n",
       "                                              reviewText  overall  \\\n",
       "0      The ability to quickly change the range and se...      4.0   \n",
       "1      Jade rosin gives a extra grippiness to the bow...      5.0   \n",
       "2      This compact humidifier is easily filled with ...      5.0   \n",
       "3      When I purchased this pedal from a local music...      5.0   \n",
       "4      I purchased this key on a whim.  When it arriv...      5.0   \n",
       "...                                                  ...      ...   \n",
       "10256  I needed an inexpensive music stand for my gui...      5.0   \n",
       "10257  These are some bright strings!I play with a pi...      5.0   \n",
       "10258  I'm a D'Addario man myself, but hey free is fr...      4.0   \n",
       "10259  These are durable, but I get some noise from t...      3.0   \n",
       "10260  I have tried coated strings in the past ( incl...      4.0   \n",
       "\n",
       "                                               summary  unixReviewTime  \\\n",
       "0                                            GREAT Wah      1095465600   \n",
       "1                               Excellent sticky rosin      1096416000   \n",
       "2                          Very Easy to Use, Non-Messy      1096416000   \n",
       "3                   Competes with many high-end pedals      1101686400   \n",
       "4                 This actually works - and works well      1101686400   \n",
       "...                                                ...             ...   \n",
       "10256                                        very nice      1405814400   \n",
       "10257                             Great for the price!      1405900800   \n",
       "10258  I'm a D'Addario man myself, but hey free is ...      1405900800   \n",
       "10259                                      Three Stars      1405900800   \n",
       "10260                                 Good for coated.      1405987200   \n",
       "\n",
       "        reviewTime  \n",
       "0      09 18, 2004  \n",
       "1      09 29, 2004  \n",
       "2      09 29, 2004  \n",
       "3      11 29, 2004  \n",
       "4      11 29, 2004  \n",
       "...            ...  \n",
       "10256  07 20, 2014  \n",
       "10257  07 21, 2014  \n",
       "10258  07 21, 2014  \n",
       "10259  07 21, 2014  \n",
       "10260  07 22, 2014  \n",
       "\n",
       "[10261 rows x 10 columns]"
      ]
     },
     "execution_count": 6,
     "metadata": {},
     "output_type": "execute_result"
    }
   ],
   "source": [
    "unfilteredData.sort_values('unixReviewTime',ascending=True).reset_index()"
   ]
  },
  {
   "cell_type": "code",
   "execution_count": 7,
   "metadata": {},
   "outputs": [],
   "source": [
    "unfilteredData.drop(['asin','reviewerName', 'reviewTime','reviewerID','helpful'], inplace = True, axis = 1)"
   ]
  },
  {
   "cell_type": "code",
   "execution_count": 8,
   "metadata": {},
   "outputs": [],
   "source": [
    "reviewTextNsummary = unfilteredData[['reviewText','summary']]\n",
    "ratings = unfilteredData[['overall']]"
   ]
  },
  {
   "cell_type": "code",
   "execution_count": 9,
   "metadata": {},
   "outputs": [],
   "source": [
    "def newRatings(vals):\n",
    "    if vals > 3.0:\n",
    "        return 1.0\n",
    "    else:\n",
    "        return 0.0"
   ]
  },
  {
   "cell_type": "code",
   "execution_count": 10,
   "metadata": {},
   "outputs": [],
   "source": [
    "ratings = ratings['overall'].apply(newRatings)"
   ]
  },
  {
   "cell_type": "code",
   "execution_count": 11,
   "metadata": {},
   "outputs": [
    {
     "data": {
      "text/plain": [
       "1.0    9022\n",
       "0.0    1239\n",
       "Name: overall, dtype: int64"
      ]
     },
     "execution_count": 11,
     "metadata": {},
     "output_type": "execute_result"
    }
   ],
   "source": [
    "ratings.value_counts()"
   ]
  },
  {
   "cell_type": "code",
   "execution_count": 12,
   "metadata": {},
   "outputs": [],
   "source": [
    "contractions = {\n",
    "\"ain't\": \"am not / are not\",\n",
    "\"aren't\": \"are not / am not\",\n",
    "\"can't\": \"cannot\",\n",
    "\"can't've\": \"cannot have\",\n",
    "\"'cause\": \"because\",\n",
    "\"could've\": \"could have\",\n",
    "\"couldn't\": \"could not\",\n",
    "\"couldn't've\": \"could not have\",\n",
    "\"didn't\": \"did not\",\n",
    "\"doesn't\": \"does not\",\n",
    "\"don't\": \"do not\",\n",
    "\"hadn't\": \"had not\",\n",
    "\"hadn't've\": \"had not have\",\n",
    "\"hasn't\": \"has not\",\n",
    "\"haven't\": \"have not\",\n",
    "\"he'd\": \"he had / he would\",\n",
    "\"he'd've\": \"he would have\",\n",
    "\"he'll\": \"he shall / he will\",\n",
    "\"he'll've\": \"he shall have / he will have\",\n",
    "\"he's\": \"he has / he is\",\n",
    "\"how'd\": \"how did\",\n",
    "\"how'd'y\": \"how do you\",\n",
    "\"how'll\": \"how will\",\n",
    "\"how's\": \"how has / how is\",\n",
    "\"i'd\": \"I had / I would\",\n",
    "\"i'd've\": \"I would have\",\n",
    "\"i'll\": \"I shall / I will\",\n",
    "\"i'll've\": \"I shall have / I will have\",\n",
    "\"i'm\": \"I am\",\n",
    "\"i've\": \"I have\",\n",
    "\"isn't\": \"is not\",\n",
    "\"it'd\": \"it had / it would\",\n",
    "\"it'd've\": \"it would have\",\n",
    "\"it'll\": \"it shall / it will\",\n",
    "\"it'll've\": \"it shall have / it will have\",\n",
    "\"it's\": \"it has / it is\",\n",
    "\"let's\": \"let us\",\n",
    "\"ma'am\": \"madam\",\n",
    "\"mayn't\": \"may not\",\n",
    "\"might've\": \"might have\",\n",
    "\"mightn't\": \"might not\",\n",
    "\"mightn't've\": \"might not have\",\n",
    "\"must've\": \"must have\",\n",
    "\"mustn't\": \"must not\",\n",
    "\"mustn't've\": \"must not have\",\n",
    "\"needn't\": \"need not\",\n",
    "\"needn't've\": \"need not have\",\n",
    "\"o'clock\": \"of the clock\",\n",
    "\"oughtn't\": \"ought not\",\n",
    "\"oughtn't've\": \"ought not have\",\n",
    "\"shan't\": \"shall not\",\n",
    "\"sha'n't\": \"shall not\",\n",
    "\"shan't've\": \"shall not have\",\n",
    "\"she'd\": \"she had / she would\",\n",
    "\"she'd've\": \"she would have\",\n",
    "\"she'll\": \"she shall / she will\",\n",
    "\"she'll've\": \"she shall have / she will have\",\n",
    "\"she's\": \"she has / she is\",\n",
    "\"should've\": \"should have\",\n",
    "\"shouldn't\": \"should not\",\n",
    "\"shouldn't've\": \"should not have\",\n",
    "\"so've\": \"so have\",\n",
    "\"so's\": \"so as / so is\",\n",
    "\"that'd\": \"that would / that had\",\n",
    "\"that'd've\": \"that would have\",\n",
    "\"that's\": \"that has / that is\",\n",
    "\"there'd\": \"there had / there would\",\n",
    "\"there'd've\": \"there would have\",\n",
    "\"there's\": \"there has / there is\",\n",
    "\"they'd\": \"they had / they would\",\n",
    "\"they'd've\": \"they would have\",\n",
    "\"they'll\": \"they shall / they will\",\n",
    "\"they'll've\": \"they shall have / they will have\",\n",
    "\"they're\": \"they are\",\n",
    "\"they've\": \"they have\",\n",
    "\"to've\": \"to have\",\n",
    "\"wasn't\": \"was not\",\n",
    "\"we'd\": \"we had / we would\",\n",
    "\"we'd've\": \"we would have\",\n",
    "\"we'll\": \"we will\",\n",
    "\"we'll've\": \"we will have\",\n",
    "\"we're\": \"we are\",\n",
    "\"we've\": \"we have\",\n",
    "\"weren't\": \"were not\",\n",
    "\"what'll\": \"what shall / what will\",\n",
    "\"what'll've\": \"what shall have / what will have\",\n",
    "\"what're\": \"what are\",\n",
    "\"what's\": \"what has / what is\",\n",
    "\"what've\": \"what have\",\n",
    "\"when's\": \"when has / when is\",\n",
    "\"when've\": \"when have\",\n",
    "\"where'd\": \"where did\",\n",
    "\"where's\": \"where has / where is\",\n",
    "\"where've\": \"where have\",\n",
    "\"who'll\": \"who shall / who will\",\n",
    "\"who'll've\": \"who shall have / who will have\",\n",
    "\"who's\": \"who has / who is\",\n",
    "\"who've\": \"who have\",\n",
    "\"why's\": \"why has / why is\",\n",
    "\"why've\": \"why have\",\n",
    "\"will've\": \"will have\",\n",
    "\"won't\": \"will not\",\n",
    "\"won't've\": \"will not have\",\n",
    "\"would've\": \"would have\",\n",
    "\"wouldn't\": \"would not\",\n",
    "\"wouldn't've\": \"would not have\",\n",
    "\"y'all\": \"you all\",\n",
    "\"y'all'd\": \"you all would\",\n",
    "\"y'all'd've\": \"you all would have\",\n",
    "\"y'all're\": \"you all are\",\n",
    "\"y'all've\": \"you all have\",\n",
    "\"you'd\": \"you had / you would\",\n",
    "\"you'd've\": \"you would have\",\n",
    "\"you'll\": \"you shall / you will\",\n",
    "\"you'll've\": \"you shall have / you will have\",\n",
    "\"you're\": \"you are\",\n",
    "\"you've\": \"you have\"\n",
    "}"
   ]
  },
  {
   "cell_type": "code",
   "execution_count": 13,
   "metadata": {},
   "outputs": [],
   "source": [
    "#Convert all sentences into lower case\n",
    "\n",
    "def preProcessText(review):\n",
    "    review = review.lower() # Convert string into lower case\n",
    "    for word in review.split():\n",
    "        if word.lower() in contractions:\n",
    "            review = review.replace(word, contractions[word.lower()])\n",
    "    review = review.replace(\"?\",\"\") # remove question mark\n",
    "    review = \" \".join(re.findall(r\"[a-zA-Z]+\", review)) # Remove special symbols and numbers from the text \n",
    "    review = re.sub(r'^https?:\\/\\/.*[\\r\\n]*', '', review, flags=re.MULTILINE) # remove urls from the text    \n",
    "    return review"
   ]
  },
  {
   "cell_type": "code",
   "execution_count": 14,
   "metadata": {},
   "outputs": [],
   "source": [
    "processedData = pd.DataFrame()\n",
    "processedData['Summary'] = unfilteredData.summary.apply(preProcessText)\n",
    "processedData['ReviewText'] = unfilteredData.reviewText.apply(preProcessText)"
   ]
  },
  {
   "cell_type": "code",
   "execution_count": 15,
   "metadata": {},
   "outputs": [],
   "source": [
    "#Tokenizes Data\n",
    "\n",
    "processedData['tokenized_Summary'] = processedData[['Summary']].apply(lambda row: nltk.word_tokenize(row['Summary']), axis = 1)\n",
    "processedData['tokenized_ReviewText'] = processedData[['ReviewText']].apply(lambda row: nltk.word_tokenize(row['ReviewText']), axis = 1)"
   ]
  },
  {
   "cell_type": "code",
   "execution_count": 16,
   "metadata": {},
   "outputs": [],
   "source": [
    "#Stopwords removal\n",
    "\n",
    "def removeStopwords(column,stopWords):\n",
    "    filtered_sentence = []\n",
    "    for w in column:\n",
    "        if w not in stopWords:\n",
    "            filtered_sentence.append(w)\n",
    "    return filtered_sentence"
   ]
  },
  {
   "cell_type": "code",
   "execution_count": 17,
   "metadata": {},
   "outputs": [
    {
     "name": "stdout",
     "output_type": "stream",
     "text": [
      "179\n",
      "178\n"
     ]
    }
   ],
   "source": [
    "stopWords = set(stopwords.words('english'))\n",
    "print(len(stopWords))\n",
    "stopWords.remove('not')\n",
    "print(len(stopWords))"
   ]
  },
  {
   "cell_type": "code",
   "execution_count": 18,
   "metadata": {},
   "outputs": [],
   "source": [
    "processedData['tokenized_Summary'] = processedData[['tokenized_Summary']].apply(lambda x: removeStopwords(x['tokenized_Summary'], stopWords), axis = 1)\n",
    "processedData['tokenized_ReviewText'] = processedData[['tokenized_ReviewText']].apply(lambda x: removeStopwords(x['tokenized_ReviewText'], stopWords), axis = 1)"
   ]
  },
  {
   "cell_type": "code",
   "execution_count": 19,
   "metadata": {},
   "outputs": [],
   "source": [
    "Tokenized_data = processedData.copy()"
   ]
  },
  {
   "cell_type": "code",
   "execution_count": 20,
   "metadata": {},
   "outputs": [
    {
     "data": {
      "text/html": [
       "<div>\n",
       "<style scoped>\n",
       "    .dataframe tbody tr th:only-of-type {\n",
       "        vertical-align: middle;\n",
       "    }\n",
       "\n",
       "    .dataframe tbody tr th {\n",
       "        vertical-align: top;\n",
       "    }\n",
       "\n",
       "    .dataframe thead th {\n",
       "        text-align: right;\n",
       "    }\n",
       "</style>\n",
       "<table border=\"1\" class=\"dataframe\">\n",
       "  <thead>\n",
       "    <tr style=\"text-align: right;\">\n",
       "      <th></th>\n",
       "      <th>tokenized_Summary</th>\n",
       "      <th>tokenized_ReviewText</th>\n",
       "    </tr>\n",
       "  </thead>\n",
       "  <tbody>\n",
       "    <tr>\n",
       "      <th>0</th>\n",
       "      <td>[good]</td>\n",
       "      <td>[not, much, write, exactly, supposed, filters,...</td>\n",
       "    </tr>\n",
       "    <tr>\n",
       "      <th>1</th>\n",
       "      <td>[jake]</td>\n",
       "      <td>[product, exactly, quite, affordable, not, rea...</td>\n",
       "    </tr>\n",
       "    <tr>\n",
       "      <th>2</th>\n",
       "      <td>[job, well]</td>\n",
       "      <td>[primary, job, device, block, breath, would, o...</td>\n",
       "    </tr>\n",
       "    <tr>\n",
       "      <th>3</th>\n",
       "      <td>[good, windscreen, money]</td>\n",
       "      <td>[nice, windscreen, protects, mxl, mic, prevent...</td>\n",
       "    </tr>\n",
       "    <tr>\n",
       "      <th>4</th>\n",
       "      <td>[pops, record, vocals]</td>\n",
       "      <td>[pop, filter, great, looks, performs, like, st...</td>\n",
       "    </tr>\n",
       "  </tbody>\n",
       "</table>\n",
       "</div>"
      ],
      "text/plain": [
       "           tokenized_Summary  \\\n",
       "0                     [good]   \n",
       "1                     [jake]   \n",
       "2                [job, well]   \n",
       "3  [good, windscreen, money]   \n",
       "4     [pops, record, vocals]   \n",
       "\n",
       "                                tokenized_ReviewText  \n",
       "0  [not, much, write, exactly, supposed, filters,...  \n",
       "1  [product, exactly, quite, affordable, not, rea...  \n",
       "2  [primary, job, device, block, breath, would, o...  \n",
       "3  [nice, windscreen, protects, mxl, mic, prevent...  \n",
       "4  [pop, filter, great, looks, performs, like, st...  "
      ]
     },
     "execution_count": 20,
     "metadata": {},
     "output_type": "execute_result"
    }
   ],
   "source": [
    "Tokenized_data.drop(['Summary','ReviewText'], axis = 1, inplace = True)\n",
    "Tokenized_data.head()"
   ]
  },
  {
   "cell_type": "code",
   "execution_count": 21,
   "metadata": {},
   "outputs": [],
   "source": [
    "#Stemming and Lemmatization\n",
    "\n",
    "def StemSentence(column):\n",
    "    porter = PorterStemmer()\n",
    "    lem_list = []\n",
    "    for w in column:\n",
    "        lem_list.append(porter.stem(w))\n",
    "    return lem_list"
   ]
  },
  {
   "cell_type": "code",
   "execution_count": 22,
   "metadata": {},
   "outputs": [],
   "source": [
    "Tokenized_data['Ltokenized_Summary'] = Tokenized_data['tokenized_Summary'].apply(StemSentence)\n",
    "Tokenized_data['Ltokenized_ReviewText'] = Tokenized_data['tokenized_ReviewText'].apply(StemSentence)"
   ]
  },
  {
   "cell_type": "code",
   "execution_count": 23,
   "metadata": {},
   "outputs": [],
   "source": [
    "stemmedData = Tokenized_data.copy()\n",
    "stemmedData.drop(['tokenized_Summary','tokenized_ReviewText'], inplace = True, axis = 1)"
   ]
  },
  {
   "cell_type": "code",
   "execution_count": 24,
   "metadata": {},
   "outputs": [
    {
     "data": {
      "text/plain": [
       "(10261, 2)"
      ]
     },
     "execution_count": 24,
     "metadata": {},
     "output_type": "execute_result"
    }
   ],
   "source": [
    "stemmedData.rename(columns = {'Ltokenized_Summary':'summary', 'Ltokenized_ReviewText':'reviewText'}, inplace = True) \n",
    "stemmedData.shape"
   ]
  },
  {
   "cell_type": "code",
   "execution_count": 25,
   "metadata": {},
   "outputs": [],
   "source": [
    "#Get number of unique words\n",
    "\n",
    "unique_words = []\n",
    "for sent in stemmedData.reviewText:\n",
    "    for word in sent:\n",
    "        if word not in unique_words:\n",
    "            unique_words.append(word)"
   ]
  },
  {
   "cell_type": "code",
   "execution_count": 26,
   "metadata": {},
   "outputs": [],
   "source": [
    "for sent in stemmedData.summary:\n",
    "    for word in sent:\n",
    "        if word not in unique_words:\n",
    "            unique_words.append(word)"
   ]
  },
  {
   "cell_type": "code",
   "execution_count": 27,
   "metadata": {},
   "outputs": [
    {
     "name": "stdout",
     "output_type": "stream",
     "text": [
      "Unique Words in Text:  13141\n"
     ]
    }
   ],
   "source": [
    "print(\"Unique Words in Text: \",len(unique_words))"
   ]
  },
  {
   "cell_type": "code",
   "execution_count": 28,
   "metadata": {},
   "outputs": [],
   "source": [
    "#Merge two columns of stemmedData\n",
    "\n",
    "JoinedColumns = stemmedData.summary + stemmedData.reviewText "
   ]
  },
  {
   "cell_type": "code",
   "execution_count": 29,
   "metadata": {},
   "outputs": [
    {
     "data": {
      "text/html": [
       "<div>\n",
       "<style scoped>\n",
       "    .dataframe tbody tr th:only-of-type {\n",
       "        vertical-align: middle;\n",
       "    }\n",
       "\n",
       "    .dataframe tbody tr th {\n",
       "        vertical-align: top;\n",
       "    }\n",
       "\n",
       "    .dataframe thead th {\n",
       "        text-align: right;\n",
       "    }\n",
       "</style>\n",
       "<table border=\"1\" class=\"dataframe\">\n",
       "  <thead>\n",
       "    <tr style=\"text-align: right;\">\n",
       "      <th></th>\n",
       "      <th>Text</th>\n",
       "    </tr>\n",
       "  </thead>\n",
       "  <tbody>\n",
       "  </tbody>\n",
       "</table>\n",
       "</div>"
      ],
      "text/plain": [
       "Empty DataFrame\n",
       "Columns: [Text]\n",
       "Index: []"
      ]
     },
     "execution_count": 29,
     "metadata": {},
     "output_type": "execute_result"
    }
   ],
   "source": [
    "JoinedColumnsNew=  pd.DataFrame(columns=['Text'])\n",
    "JoinedColumnsNew"
   ]
  },
  {
   "cell_type": "code",
   "execution_count": 31,
   "metadata": {},
   "outputs": [],
   "source": [
    "JoinedColumnsNew['Text'] = JoinedColumns.tolist()"
   ]
  },
  {
   "cell_type": "code",
   "execution_count": 32,
   "metadata": {},
   "outputs": [
    {
     "data": {
      "text/html": [
       "<div>\n",
       "<style scoped>\n",
       "    .dataframe tbody tr th:only-of-type {\n",
       "        vertical-align: middle;\n",
       "    }\n",
       "\n",
       "    .dataframe tbody tr th {\n",
       "        vertical-align: top;\n",
       "    }\n",
       "\n",
       "    .dataframe thead th {\n",
       "        text-align: right;\n",
       "    }\n",
       "</style>\n",
       "<table border=\"1\" class=\"dataframe\">\n",
       "  <thead>\n",
       "    <tr style=\"text-align: right;\">\n",
       "      <th></th>\n",
       "      <th>Text</th>\n",
       "    </tr>\n",
       "  </thead>\n",
       "  <tbody>\n",
       "    <tr>\n",
       "      <th>0</th>\n",
       "      <td>[good, not, much, write, exactli, suppos, filt...</td>\n",
       "    </tr>\n",
       "    <tr>\n",
       "      <th>1</th>\n",
       "      <td>[jake, product, exactli, quit, afford, not, re...</td>\n",
       "    </tr>\n",
       "    <tr>\n",
       "      <th>2</th>\n",
       "      <td>[job, well, primari, job, devic, block, breath...</td>\n",
       "    </tr>\n",
       "    <tr>\n",
       "      <th>3</th>\n",
       "      <td>[good, windscreen, money, nice, windscreen, pr...</td>\n",
       "    </tr>\n",
       "    <tr>\n",
       "      <th>4</th>\n",
       "      <td>[pop, record, vocal, pop, filter, great, look,...</td>\n",
       "    </tr>\n",
       "  </tbody>\n",
       "</table>\n",
       "</div>"
      ],
      "text/plain": [
       "                                                Text\n",
       "0  [good, not, much, write, exactli, suppos, filt...\n",
       "1  [jake, product, exactli, quit, afford, not, re...\n",
       "2  [job, well, primari, job, devic, block, breath...\n",
       "3  [good, windscreen, money, nice, windscreen, pr...\n",
       "4  [pop, record, vocal, pop, filter, great, look,..."
      ]
     },
     "execution_count": 32,
     "metadata": {},
     "output_type": "execute_result"
    }
   ],
   "source": [
    "JoinedColumnsNew.head()"
   ]
  },
  {
   "cell_type": "code",
   "execution_count": 33,
   "metadata": {},
   "outputs": [],
   "source": [
    "#Creating Dictionary to store frequency count of words in given corpus\n",
    "\n",
    "wordFreq = {}\n",
    "for sent in JoinedColumnsNew['Text']:\n",
    "    for word in sent:\n",
    "        if word not in wordFreq.keys():\n",
    "            wordFreq[word] = 1\n",
    "        else:\n",
    "            wordFreq[word] += 1"
   ]
  },
  {
   "cell_type": "code",
   "execution_count": 34,
   "metadata": {},
   "outputs": [],
   "source": [
    "# There are 13141 unique words in the corpus. If we use BoW based representation for all words the data size will be 10261 x 13141 = 134839801. This would be very large size. In fact some of the words occurs very few times and may not impact the polarity of the sentence. Hence we will select few top frequent words for BoW representation of text.\n",
    "\n",
    "# e.g. if we seletct 1000 most frequent words then size of final data would be 10261 x 1000 = 10261000\n",
    "\n",
    "\n",
    "import heapq\n",
    "most_freq = heapq.nlargest(1000, wordFreq, key=wordFreq.get)"
   ]
  },
  {
   "cell_type": "code",
   "execution_count": 35,
   "metadata": {},
   "outputs": [],
   "source": [
    "#create BoW based sentence vectors for every text takens from JoinedColumns\n",
    "\n",
    "sentenceVectors = []\n",
    "for sentence in JoinedColumns:\n",
    "    sentenceVec = []\n",
    "    for word in most_freq:\n",
    "        if word in sentence:\n",
    "            sentenceVec.append(1)\n",
    "        else:\n",
    "            sentenceVec.append(0)\n",
    "    sentenceVectors.append(sentenceVec)"
   ]
  },
  {
   "cell_type": "code",
   "execution_count": 36,
   "metadata": {},
   "outputs": [
    {
     "name": "stdout",
     "output_type": "stream",
     "text": [
      "(10261,)\n",
      "10261\n",
      "<class 'numpy.ndarray'>\n",
      "(10261, 1000)\n"
     ]
    }
   ],
   "source": [
    "# convert list of list into matrix ndarray\n",
    "\n",
    "print(JoinedColumns.shape)\n",
    "print(len(sentenceVectors))\n",
    "sentenceVectors = np.asarray(sentenceVectors)\n",
    "print(type(sentenceVectors))\n",
    "print(sentenceVectors.shape)"
   ]
  },
  {
   "cell_type": "code",
   "execution_count": 37,
   "metadata": {},
   "outputs": [
    {
     "data": {
      "text/html": [
       "<div>\n",
       "<style scoped>\n",
       "    .dataframe tbody tr th:only-of-type {\n",
       "        vertical-align: middle;\n",
       "    }\n",
       "\n",
       "    .dataframe tbody tr th {\n",
       "        vertical-align: top;\n",
       "    }\n",
       "\n",
       "    .dataframe thead th {\n",
       "        text-align: right;\n",
       "    }\n",
       "</style>\n",
       "<table border=\"1\" class=\"dataframe\">\n",
       "  <thead>\n",
       "    <tr style=\"text-align: right;\">\n",
       "      <th></th>\n",
       "      <th>0</th>\n",
       "      <th>1</th>\n",
       "      <th>2</th>\n",
       "      <th>3</th>\n",
       "      <th>4</th>\n",
       "      <th>5</th>\n",
       "      <th>6</th>\n",
       "      <th>7</th>\n",
       "      <th>8</th>\n",
       "      <th>9</th>\n",
       "      <th>...</th>\n",
       "      <th>990</th>\n",
       "      <th>991</th>\n",
       "      <th>992</th>\n",
       "      <th>993</th>\n",
       "      <th>994</th>\n",
       "      <th>995</th>\n",
       "      <th>996</th>\n",
       "      <th>997</th>\n",
       "      <th>998</th>\n",
       "      <th>999</th>\n",
       "    </tr>\n",
       "  </thead>\n",
       "  <tbody>\n",
       "    <tr>\n",
       "      <th>0</th>\n",
       "      <td>1</td>\n",
       "      <td>0</td>\n",
       "      <td>0</td>\n",
       "      <td>0</td>\n",
       "      <td>1</td>\n",
       "      <td>0</td>\n",
       "      <td>1</td>\n",
       "      <td>0</td>\n",
       "      <td>1</td>\n",
       "      <td>0</td>\n",
       "      <td>...</td>\n",
       "      <td>0</td>\n",
       "      <td>0</td>\n",
       "      <td>0</td>\n",
       "      <td>0</td>\n",
       "      <td>0</td>\n",
       "      <td>0</td>\n",
       "      <td>0</td>\n",
       "      <td>0</td>\n",
       "      <td>0</td>\n",
       "      <td>0</td>\n",
       "    </tr>\n",
       "    <tr>\n",
       "      <th>1</th>\n",
       "      <td>1</td>\n",
       "      <td>1</td>\n",
       "      <td>0</td>\n",
       "      <td>0</td>\n",
       "      <td>0</td>\n",
       "      <td>0</td>\n",
       "      <td>1</td>\n",
       "      <td>0</td>\n",
       "      <td>0</td>\n",
       "      <td>1</td>\n",
       "      <td>...</td>\n",
       "      <td>0</td>\n",
       "      <td>0</td>\n",
       "      <td>0</td>\n",
       "      <td>0</td>\n",
       "      <td>0</td>\n",
       "      <td>0</td>\n",
       "      <td>0</td>\n",
       "      <td>0</td>\n",
       "      <td>0</td>\n",
       "      <td>0</td>\n",
       "    </tr>\n",
       "    <tr>\n",
       "      <th>2</th>\n",
       "      <td>0</td>\n",
       "      <td>0</td>\n",
       "      <td>0</td>\n",
       "      <td>0</td>\n",
       "      <td>1</td>\n",
       "      <td>0</td>\n",
       "      <td>0</td>\n",
       "      <td>0</td>\n",
       "      <td>0</td>\n",
       "      <td>0</td>\n",
       "      <td>...</td>\n",
       "      <td>0</td>\n",
       "      <td>0</td>\n",
       "      <td>0</td>\n",
       "      <td>0</td>\n",
       "      <td>0</td>\n",
       "      <td>0</td>\n",
       "      <td>0</td>\n",
       "      <td>0</td>\n",
       "      <td>0</td>\n",
       "      <td>0</td>\n",
       "    </tr>\n",
       "    <tr>\n",
       "      <th>3</th>\n",
       "      <td>0</td>\n",
       "      <td>0</td>\n",
       "      <td>0</td>\n",
       "      <td>0</td>\n",
       "      <td>0</td>\n",
       "      <td>0</td>\n",
       "      <td>0</td>\n",
       "      <td>0</td>\n",
       "      <td>1</td>\n",
       "      <td>0</td>\n",
       "      <td>...</td>\n",
       "      <td>0</td>\n",
       "      <td>0</td>\n",
       "      <td>0</td>\n",
       "      <td>0</td>\n",
       "      <td>0</td>\n",
       "      <td>0</td>\n",
       "      <td>0</td>\n",
       "      <td>0</td>\n",
       "      <td>0</td>\n",
       "      <td>0</td>\n",
       "    </tr>\n",
       "    <tr>\n",
       "      <th>4</th>\n",
       "      <td>0</td>\n",
       "      <td>0</td>\n",
       "      <td>0</td>\n",
       "      <td>1</td>\n",
       "      <td>0</td>\n",
       "      <td>0</td>\n",
       "      <td>0</td>\n",
       "      <td>0</td>\n",
       "      <td>0</td>\n",
       "      <td>1</td>\n",
       "      <td>...</td>\n",
       "      <td>0</td>\n",
       "      <td>0</td>\n",
       "      <td>0</td>\n",
       "      <td>0</td>\n",
       "      <td>0</td>\n",
       "      <td>0</td>\n",
       "      <td>0</td>\n",
       "      <td>0</td>\n",
       "      <td>0</td>\n",
       "      <td>0</td>\n",
       "    </tr>\n",
       "  </tbody>\n",
       "</table>\n",
       "<p>5 rows × 1000 columns</p>\n",
       "</div>"
      ],
      "text/plain": [
       "   0    1    2    3    4    5    6    7    8    9    ...  990  991  992  993  \\\n",
       "0    1    0    0    0    1    0    1    0    1    0  ...    0    0    0    0   \n",
       "1    1    1    0    0    0    0    1    0    0    1  ...    0    0    0    0   \n",
       "2    0    0    0    0    1    0    0    0    0    0  ...    0    0    0    0   \n",
       "3    0    0    0    0    0    0    0    0    1    0  ...    0    0    0    0   \n",
       "4    0    0    0    1    0    0    0    0    0    1  ...    0    0    0    0   \n",
       "\n",
       "   994  995  996  997  998  999  \n",
       "0    0    0    0    0    0    0  \n",
       "1    0    0    0    0    0    0  \n",
       "2    0    0    0    0    0    0  \n",
       "3    0    0    0    0    0    0  \n",
       "4    0    0    0    0    0    0  \n",
       "\n",
       "[5 rows x 1000 columns]"
      ]
     },
     "execution_count": 37,
     "metadata": {},
     "output_type": "execute_result"
    }
   ],
   "source": [
    "# convert ndarray to dataframe\n",
    "\n",
    "BoW = pd.DataFrame(data=sentenceVectors)\n",
    "BoW.head()"
   ]
  },
  {
   "cell_type": "code",
   "execution_count": 38,
   "metadata": {},
   "outputs": [
    {
     "data": {
      "text/plain": [
       "(10261, 1000)"
      ]
     },
     "execution_count": 38,
     "metadata": {},
     "output_type": "execute_result"
    }
   ],
   "source": [
    "BoW.shape"
   ]
  },
  {
   "cell_type": "code",
   "execution_count": 39,
   "metadata": {},
   "outputs": [],
   "source": [
    "X_BoW = BoW.copy()\n",
    "y_BoW = ratings"
   ]
  },
  {
   "cell_type": "code",
   "execution_count": 40,
   "metadata": {},
   "outputs": [
    {
     "name": "stdout",
     "output_type": "stream",
     "text": [
      "X_BoW shape:  (10261, 1000) y_BoW shape:  (10261,)\n"
     ]
    }
   ],
   "source": [
    "print(\"X_BoW shape: \", X_BoW.shape, \"y_BoW shape: \",y_BoW.shape)"
   ]
  },
  {
   "cell_type": "code",
   "execution_count": 41,
   "metadata": {},
   "outputs": [
    {
     "data": {
      "text/plain": [
       "1.0    9022\n",
       "0.0    1239\n",
       "Name: overall, dtype: int64"
      ]
     },
     "execution_count": 41,
     "metadata": {},
     "output_type": "execute_result"
    }
   ],
   "source": [
    "#Check for data balanced or imbalanced\n",
    "\n",
    "ratings.value_counts()"
   ]
  },
  {
   "cell_type": "code",
   "execution_count": 42,
   "metadata": {},
   "outputs": [
    {
     "data": {
      "text/plain": [
       "((10261, 1000), (10261,))"
      ]
     },
     "execution_count": 42,
     "metadata": {},
     "output_type": "execute_result"
    }
   ],
   "source": [
    "X_BoW.shape, y_BoW.shape"
   ]
  },
  {
   "cell_type": "code",
   "execution_count": 43,
   "metadata": {},
   "outputs": [],
   "source": [
    "frames = [X_BoW,y_BoW]\n"
   ]
  },
  {
   "cell_type": "code",
   "execution_count": 44,
   "metadata": {},
   "outputs": [],
   "source": [
    "conv_data = pd.concat(frames, axis = 1)\n"
   ]
  },
  {
   "cell_type": "code",
   "execution_count": 45,
   "metadata": {},
   "outputs": [
    {
     "data": {
      "text/html": [
       "<div>\n",
       "<style scoped>\n",
       "    .dataframe tbody tr th:only-of-type {\n",
       "        vertical-align: middle;\n",
       "    }\n",
       "\n",
       "    .dataframe tbody tr th {\n",
       "        vertical-align: top;\n",
       "    }\n",
       "\n",
       "    .dataframe thead th {\n",
       "        text-align: right;\n",
       "    }\n",
       "</style>\n",
       "<table border=\"1\" class=\"dataframe\">\n",
       "  <thead>\n",
       "    <tr style=\"text-align: right;\">\n",
       "      <th></th>\n",
       "      <th>0</th>\n",
       "      <th>1</th>\n",
       "      <th>2</th>\n",
       "      <th>3</th>\n",
       "      <th>4</th>\n",
       "      <th>5</th>\n",
       "      <th>6</th>\n",
       "      <th>7</th>\n",
       "      <th>8</th>\n",
       "      <th>9</th>\n",
       "      <th>...</th>\n",
       "      <th>991</th>\n",
       "      <th>992</th>\n",
       "      <th>993</th>\n",
       "      <th>994</th>\n",
       "      <th>995</th>\n",
       "      <th>996</th>\n",
       "      <th>997</th>\n",
       "      <th>998</th>\n",
       "      <th>999</th>\n",
       "      <th>overall</th>\n",
       "    </tr>\n",
       "  </thead>\n",
       "  <tbody>\n",
       "    <tr>\n",
       "      <th>0</th>\n",
       "      <td>1</td>\n",
       "      <td>0</td>\n",
       "      <td>0</td>\n",
       "      <td>0</td>\n",
       "      <td>1</td>\n",
       "      <td>0</td>\n",
       "      <td>1</td>\n",
       "      <td>0</td>\n",
       "      <td>1</td>\n",
       "      <td>0</td>\n",
       "      <td>...</td>\n",
       "      <td>0</td>\n",
       "      <td>0</td>\n",
       "      <td>0</td>\n",
       "      <td>0</td>\n",
       "      <td>0</td>\n",
       "      <td>0</td>\n",
       "      <td>0</td>\n",
       "      <td>0</td>\n",
       "      <td>0</td>\n",
       "      <td>1.0</td>\n",
       "    </tr>\n",
       "    <tr>\n",
       "      <th>1</th>\n",
       "      <td>1</td>\n",
       "      <td>1</td>\n",
       "      <td>0</td>\n",
       "      <td>0</td>\n",
       "      <td>0</td>\n",
       "      <td>0</td>\n",
       "      <td>1</td>\n",
       "      <td>0</td>\n",
       "      <td>0</td>\n",
       "      <td>1</td>\n",
       "      <td>...</td>\n",
       "      <td>0</td>\n",
       "      <td>0</td>\n",
       "      <td>0</td>\n",
       "      <td>0</td>\n",
       "      <td>0</td>\n",
       "      <td>0</td>\n",
       "      <td>0</td>\n",
       "      <td>0</td>\n",
       "      <td>0</td>\n",
       "      <td>1.0</td>\n",
       "    </tr>\n",
       "    <tr>\n",
       "      <th>2</th>\n",
       "      <td>0</td>\n",
       "      <td>0</td>\n",
       "      <td>0</td>\n",
       "      <td>0</td>\n",
       "      <td>1</td>\n",
       "      <td>0</td>\n",
       "      <td>0</td>\n",
       "      <td>0</td>\n",
       "      <td>0</td>\n",
       "      <td>0</td>\n",
       "      <td>...</td>\n",
       "      <td>0</td>\n",
       "      <td>0</td>\n",
       "      <td>0</td>\n",
       "      <td>0</td>\n",
       "      <td>0</td>\n",
       "      <td>0</td>\n",
       "      <td>0</td>\n",
       "      <td>0</td>\n",
       "      <td>0</td>\n",
       "      <td>1.0</td>\n",
       "    </tr>\n",
       "    <tr>\n",
       "      <th>3</th>\n",
       "      <td>0</td>\n",
       "      <td>0</td>\n",
       "      <td>0</td>\n",
       "      <td>0</td>\n",
       "      <td>0</td>\n",
       "      <td>0</td>\n",
       "      <td>0</td>\n",
       "      <td>0</td>\n",
       "      <td>1</td>\n",
       "      <td>0</td>\n",
       "      <td>...</td>\n",
       "      <td>0</td>\n",
       "      <td>0</td>\n",
       "      <td>0</td>\n",
       "      <td>0</td>\n",
       "      <td>0</td>\n",
       "      <td>0</td>\n",
       "      <td>0</td>\n",
       "      <td>0</td>\n",
       "      <td>0</td>\n",
       "      <td>1.0</td>\n",
       "    </tr>\n",
       "    <tr>\n",
       "      <th>4</th>\n",
       "      <td>0</td>\n",
       "      <td>0</td>\n",
       "      <td>0</td>\n",
       "      <td>1</td>\n",
       "      <td>0</td>\n",
       "      <td>0</td>\n",
       "      <td>0</td>\n",
       "      <td>0</td>\n",
       "      <td>0</td>\n",
       "      <td>1</td>\n",
       "      <td>...</td>\n",
       "      <td>0</td>\n",
       "      <td>0</td>\n",
       "      <td>0</td>\n",
       "      <td>0</td>\n",
       "      <td>0</td>\n",
       "      <td>0</td>\n",
       "      <td>0</td>\n",
       "      <td>0</td>\n",
       "      <td>0</td>\n",
       "      <td>1.0</td>\n",
       "    </tr>\n",
       "  </tbody>\n",
       "</table>\n",
       "<p>5 rows × 1001 columns</p>\n",
       "</div>"
      ],
      "text/plain": [
       "   0  1  2  3  4  5  6  7  8  9  ...  991  992  993  994  995  996  997  998  \\\n",
       "0  1  0  0  0  1  0  1  0  1  0  ...    0    0    0    0    0    0    0    0   \n",
       "1  1  1  0  0  0  0  1  0  0  1  ...    0    0    0    0    0    0    0    0   \n",
       "2  0  0  0  0  1  0  0  0  0  0  ...    0    0    0    0    0    0    0    0   \n",
       "3  0  0  0  0  0  0  0  0  1  0  ...    0    0    0    0    0    0    0    0   \n",
       "4  0  0  0  1  0  0  0  0  0  1  ...    0    0    0    0    0    0    0    0   \n",
       "\n",
       "   999  overall  \n",
       "0    0      1.0  \n",
       "1    0      1.0  \n",
       "2    0      1.0  \n",
       "3    0      1.0  \n",
       "4    0      1.0  \n",
       "\n",
       "[5 rows x 1001 columns]"
      ]
     },
     "execution_count": 45,
     "metadata": {},
     "output_type": "execute_result"
    }
   ],
   "source": [
    "conv_data.head()"
   ]
  },
  {
   "cell_type": "code",
   "execution_count": 46,
   "metadata": {},
   "outputs": [],
   "source": [
    "df = conv_data"
   ]
  },
  {
   "cell_type": "markdown",
   "metadata": {},
   "source": [
    "### SMOTE"
   ]
  },
  {
   "cell_type": "code",
   "execution_count": 54,
   "metadata": {},
   "outputs": [],
   "source": [
    "from imblearn.over_sampling import SMOTE"
   ]
  },
  {
   "cell_type": "code",
   "execution_count": 56,
   "metadata": {},
   "outputs": [],
   "source": [
    "X_train,X_test,y_train,y_test=train_test_split(X_BoW,y_BoW,test_size=0.3)\n"
   ]
  },
  {
   "cell_type": "code",
   "execution_count": 64,
   "metadata": {},
   "outputs": [],
   "source": [
    "sm = SMOTE(random_state=2)\n",
    "X_smote,y_smote=sm.fit_sample(X_train,y_train)"
   ]
  },
  {
   "cell_type": "code",
   "execution_count": 65,
   "metadata": {},
   "outputs": [
    {
     "name": "stdout",
     "output_type": "stream",
     "text": [
      "after SMOTE,counts of label '1':6325\n",
      "after SMOTE,counts of label '0':6325\n"
     ]
    }
   ],
   "source": [
    "print(\"after SMOTE,counts of label '1':{}\".format(sum(y_smote==1)))\n",
    "print(\"after SMOTE,counts of label '0':{}\".format(sum(y_smote==0)))"
   ]
  },
  {
   "cell_type": "code",
   "execution_count": 69,
   "metadata": {},
   "outputs": [],
   "source": [
    "pca = PCA(n_components=2)\n",
    "X_2d = pca.fit_transform(X_smote)\n"
   ]
  },
  {
   "cell_type": "code",
   "execution_count": 87,
   "metadata": {},
   "outputs": [
    {
     "data": {
      "image/png": "[encoded data removed]",
      "text/plain": [
       "<Figure size 432x288 with 1 Axes>"
      ]
     },
     "metadata": {
      "needs_background": "light"
     },
     "output_type": "display_data"
    }
   ],
   "source": [
    "def draw_plot(X_smote,y_smote,label):\n",
    "    for l in np.unique(y_smote):\n",
    "        plt.scatter(\n",
    "                    X_2d[y_smote==l,0],\n",
    "                    X_2d[y_smote==l,1],\n",
    "                    label=l\n",
    "        )\n",
    "    plt.title(label)\n",
    "    plt.legend()\n",
    "    plt.show()\n",
    "             \n",
    "draw_plot(X_smote,y_smote,\"SMOTE\")            \n",
    "                \n",
    "        "
   ]
  },
  {
   "cell_type": "code",
   "execution_count": 109,
   "metadata": {},
   "outputs": [
    {
     "name": "stdout",
     "output_type": "stream",
     "text": [
      "(10120, 1000) (3795, 1000) (2530, 1000) (10120,) (3795,) (2530,)\n"
     ]
    },
    {
     "data": {
      "text/plain": [
       "(3079,)"
      ]
     },
     "execution_count": 109,
     "metadata": {},
     "output_type": "execute_result"
    }
   ],
   "source": [
    "X_train1, X_test1, y_train1, y_test1 = train_test_split(X_smote,y_smote,test_size = 0.3, random_state = 1)\n",
    "X_train1, X_cv, y_train1, y_cv = train_test_split(X_smote,y_smote,test_size = 0.20, random_state = 10)\n",
    "print(X_train1.shape, X_test1.shape, X_cv. shape, y_train1.shape, y_test1.shape, y_cv.shape)\n",
    "y_test.shape"
   ]
  },
  {
   "cell_type": "markdown",
   "metadata": {},
   "source": [
    "### KNN Classifier"
   ]
  },
  {
   "cell_type": "code",
   "execution_count": 114,
   "metadata": {},
   "outputs": [],
   "source": [
    "def trainKNN(X_train1, y_train1, k): \n",
    "    classifier = KNeighborsClassifier(n_neighbors=k, n_jobs = -1)\n",
    "    classifier.fit(X_train1,y_train1)\n",
    "    return classifier"
   ]
  },
  {
   "cell_type": "code",
   "execution_count": 115,
   "metadata": {},
   "outputs": [],
   "source": [
    "def predictClassifier(X_test1, classifier):\n",
    "    y_pred = classifier.predict(X_test1)\n",
    "    return y_pred"
   ]
  },
  {
   "cell_type": "code",
   "execution_count": 116,
   "metadata": {},
   "outputs": [],
   "source": [
    "def calculateAccuracy(y_pred, y_test1):\n",
    "    accuracy = accuracy_score(y_pred, y_test1)\n",
    "    return accuracy"
   ]
  },
  {
   "cell_type": "code",
   "execution_count": 117,
   "metadata": {},
   "outputs": [
    {
     "name": "stderr",
     "output_type": "stream",
     "text": [
      "100%|██████████| 10/10 [04:52<00:00, 29.21s/it]\n"
     ]
    }
   ],
   "source": [
    "kvalues = [x for x in range(1,20,2)]\n",
    "AccuracyList = []\n",
    "for k in tqdm(kvalues):\n",
    "    knnClassifier = trainKNN(X_train1, y_train1, k)\n",
    "    y_pred = predictClassifier(X_cv, knnClassifier)\n",
    "    acc = calculateAccuracy(y_pred, y_cv)\n",
    "    AccuracyList.append(acc)\n",
    "  \n"
   ]
  },
  {
   "cell_type": "code",
   "execution_count": 118,
   "metadata": {},
   "outputs": [
    {
     "data": {
      "text/plain": [
       "[0.5588932806324111,\n",
       " 0.5185770750988142,\n",
       " 0.5094861660079051,\n",
       " 0.5043478260869565,\n",
       " 0.500395256916996,\n",
       " 0.5,\n",
       " 0.5,\n",
       " 0.5,\n",
       " 0.49960474308300395,\n",
       " 0.49683794466403164]"
      ]
     },
     "execution_count": 118,
     "metadata": {},
     "output_type": "execute_result"
    }
   ],
   "source": [
    "AccuracyList"
   ]
  },
  {
   "cell_type": "code",
   "execution_count": 119,
   "metadata": {},
   "outputs": [
    {
     "data": {
      "image/png": "[encoded data removed]",
      "text/plain": [
       "<Figure size 288x288 with 1 Axes>"
      ]
     },
     "metadata": {
      "needs_background": "light"
     },
     "output_type": "display_data"
    }
   ],
   "source": [
    "f = plt.figure(figsize = (4,4))\n",
    "ax = plt.subplot()\n",
    "plt.plot(kvalues,AccuracyList)\n",
    "ax.set_xlabel('K values', fontsize = 10)\n",
    "ax.set_ylabel('Accuracy', fontsize = 10)\n",
    "plt.show()\n"
   ]
  },
  {
   "cell_type": "code",
   "execution_count": 120,
   "metadata": {},
   "outputs": [
    {
     "name": "stdout",
     "output_type": "stream",
     "text": [
      "Final Accuracy:  0.5061923583662714\n"
     ]
    }
   ],
   "source": [
    "classifier = trainKNN(X_train1,y_train1, 13)\n",
    "y_pred = predictClassifier(X_test1, knnClassifier)\n",
    "acc = calculateAccuracy(y_pred, y_test1)\n",
    "print(\"Final Accuracy: \",acc)"
   ]
  },
  {
   "cell_type": "code",
   "execution_count": 121,
   "metadata": {},
   "outputs": [
    {
     "data": {
      "text/plain": [
       "array([[1886,    3],\n",
       "       [1871,   35]], dtype=int64)"
      ]
     },
     "execution_count": 121,
     "metadata": {},
     "output_type": "execute_result"
    }
   ],
   "source": [
    "confusion_matrix(y_test1,y_pred)"
   ]
  },
  {
   "cell_type": "code",
   "execution_count": 122,
   "metadata": {},
   "outputs": [
    {
     "name": "stdout",
     "output_type": "stream",
     "text": [
      "              precision    recall  f1-score   support\n",
      "\n",
      "         0.0       0.50      1.00      0.67      1889\n",
      "         1.0       0.92      0.02      0.04      1906\n",
      "\n",
      "    accuracy                           0.51      3795\n",
      "   macro avg       0.71      0.51      0.35      3795\n",
      "weighted avg       0.71      0.51      0.35      3795\n",
      "\n"
     ]
    }
   ],
   "source": [
    "print(classification_report(y_test1,y_pred))"
   ]
  },
  {
   "cell_type": "markdown",
   "metadata": {},
   "source": [
    "### Logistic Regression"
   ]
  },
  {
   "cell_type": "code",
   "execution_count": 123,
   "metadata": {},
   "outputs": [
    {
     "name": "stdout",
     "output_type": "stream",
     "text": [
      "Fitting 5 folds for each of 32 candidates, totalling 160 fits\n"
     ]
    },
    {
     "name": "stderr",
     "output_type": "stream",
     "text": [
      "[Parallel(n_jobs=-1)]: Using backend LokyBackend with 4 concurrent workers.\n",
      "[Parallel(n_jobs=-1)]: Done  10 tasks      | elapsed:    5.3s\n",
      "[Parallel(n_jobs=-1)]: Done  64 tasks      | elapsed:  1.3min\n",
      "[Parallel(n_jobs=-1)]: Done 160 out of 160 | elapsed:  9.6min finished\n",
      "C:\\ProgramData\\Anaconda3\\lib\\site-packages\\sklearn\\linear_model\\_sag.py:330: ConvergenceWarning: The max_iter was reached which means the coef_ did not converge\n",
      "  \"the coef_ did not converge\", ConvergenceWarning)\n"
     ]
    },
    {
     "data": {
      "text/plain": [
       "GridSearchCV(cv=5, estimator=LogisticRegression(), n_jobs=-1,\n",
       "             param_grid={'C': [0.0001, 0.001, 0.01, 0.1, 1, 10, 100, 1000],\n",
       "                         'penalty': ['l1', 'l2'],\n",
       "                         'solver': ['saga', 'liblinear']},\n",
       "             verbose=5)"
      ]
     },
     "execution_count": 123,
     "metadata": {},
     "output_type": "execute_result"
    }
   ],
   "source": [
    "param = {\n",
    "    'C' : [10**x for x in range(-4,4,1)],\n",
    "    'penalty': ['l1','l2'],\n",
    "    'solver' : ['saga','liblinear']    \n",
    "}\n",
    "clfLR = LogisticRegression()\n",
    "clf_GSLR = GridSearchCV(clfLR, param_grid =param, cv = 5, n_jobs = -1, verbose = 5)\n",
    "clf_GSLR.fit(X_smote,y_smote)"
   ]
  },
  {
   "cell_type": "code",
   "execution_count": 124,
   "metadata": {},
   "outputs": [
    {
     "data": {
      "text/plain": [
       "0.8881422924901186"
      ]
     },
     "execution_count": 124,
     "metadata": {},
     "output_type": "execute_result"
    }
   ],
   "source": [
    "clf_GSLR.best_score_"
   ]
  },
  {
   "cell_type": "code",
   "execution_count": 125,
   "metadata": {},
   "outputs": [
    {
     "name": "stderr",
     "output_type": "stream",
     "text": [
      "C:\\ProgramData\\Anaconda3\\lib\\site-packages\\sklearn\\linear_model\\_sag.py:330: ConvergenceWarning: The max_iter was reached which means the coef_ did not converge\n",
      "  \"the coef_ did not converge\", ConvergenceWarning)\n"
     ]
    }
   ],
   "source": [
    "bestLRCLF = clf_GSLR.best_estimator_\n",
    "bestLRCLF.fit(X_train1,y_train1)\n",
    "y_pred = bestLRCLF.predict(X_test1)"
   ]
  },
  {
   "cell_type": "code",
   "execution_count": 126,
   "metadata": {},
   "outputs": [
    {
     "name": "stdout",
     "output_type": "stream",
     "text": [
      "              precision    recall  f1-score   support\n",
      "\n",
      "         0.0       0.93      0.94      0.94      1889\n",
      "         1.0       0.94      0.93      0.93      1906\n",
      "\n",
      "    accuracy                           0.93      3795\n",
      "   macro avg       0.94      0.93      0.93      3795\n",
      "weighted avg       0.94      0.93      0.93      3795\n",
      "\n",
      "Accuracy Logistic Regression:  0.9349143610013175\n"
     ]
    }
   ],
   "source": [
    "print(classification_report(y_test1,y_pred))\n",
    "print(\"Accuracy Logistic Regression: \",accuracy_score(y_test1,y_pred))"
   ]
  },
  {
   "cell_type": "code",
   "execution_count": 127,
   "metadata": {},
   "outputs": [
    {
     "data": {
      "text/plain": [
       "array([[1784,  105],\n",
       "       [ 142, 1764]], dtype=int64)"
      ]
     },
     "execution_count": 127,
     "metadata": {},
     "output_type": "execute_result"
    }
   ],
   "source": [
    "confusion_matrix(y_test1,y_pred)"
   ]
  },
  {
   "cell_type": "markdown",
   "metadata": {},
   "source": [
    "### Decision Tree"
   ]
  },
  {
   "cell_type": "code",
   "execution_count": 128,
   "metadata": {},
   "outputs": [
    {
     "name": "stdout",
     "output_type": "stream",
     "text": [
      "Fitting 10 folds for each of 360 candidates, totalling 3600 fits\n"
     ]
    },
    {
     "name": "stderr",
     "output_type": "stream",
     "text": [
      "[Parallel(n_jobs=-1)]: Using backend LokyBackend with 4 concurrent workers.\n",
      "[Parallel(n_jobs=-1)]: Done   5 tasks      | elapsed:    0.5s\n",
      "[Parallel(n_jobs=-1)]: Done  10 tasks      | elapsed:    0.9s\n",
      "[Parallel(n_jobs=-1)]: Done  17 tasks      | elapsed:    1.4s\n",
      "[Parallel(n_jobs=-1)]: Done  24 tasks      | elapsed:    1.8s\n",
      "[Parallel(n_jobs=-1)]: Done  33 tasks      | elapsed:    2.4s\n",
      "[Parallel(n_jobs=-1)]: Done  42 tasks      | elapsed:    3.1s\n",
      "[Parallel(n_jobs=-1)]: Done  53 tasks      | elapsed:    3.8s\n",
      "[Parallel(n_jobs=-1)]: Done  64 tasks      | elapsed:    4.6s\n",
      "[Parallel(n_jobs=-1)]: Done  77 tasks      | elapsed:    5.5s\n",
      "[Parallel(n_jobs=-1)]: Done  90 tasks      | elapsed:    6.5s\n",
      "[Parallel(n_jobs=-1)]: Done 105 tasks      | elapsed:    7.9s\n",
      "[Parallel(n_jobs=-1)]: Done 120 tasks      | elapsed:    9.1s\n",
      "[Parallel(n_jobs=-1)]: Done 137 tasks      | elapsed:   10.4s\n",
      "[Parallel(n_jobs=-1)]: Done 154 tasks      | elapsed:   12.0s\n",
      "[Parallel(n_jobs=-1)]: Done 173 tasks      | elapsed:   13.6s\n",
      "[Parallel(n_jobs=-1)]: Done 192 tasks      | elapsed:   15.1s\n",
      "[Parallel(n_jobs=-1)]: Done 213 tasks      | elapsed:   16.9s\n",
      "[Parallel(n_jobs=-1)]: Done 234 tasks      | elapsed:   18.9s\n",
      "[Parallel(n_jobs=-1)]: Done 257 tasks      | elapsed:   21.0s\n",
      "[Parallel(n_jobs=-1)]: Done 280 tasks      | elapsed:   23.1s\n",
      "[Parallel(n_jobs=-1)]: Done 305 tasks      | elapsed:   25.5s\n",
      "[Parallel(n_jobs=-1)]: Done 330 tasks      | elapsed:   28.4s\n",
      "[Parallel(n_jobs=-1)]: Done 357 tasks      | elapsed:   31.1s\n",
      "[Parallel(n_jobs=-1)]: Done 384 tasks      | elapsed:   33.9s\n",
      "[Parallel(n_jobs=-1)]: Done 413 tasks      | elapsed:   37.3s\n",
      "[Parallel(n_jobs=-1)]: Done 442 tasks      | elapsed:   40.7s\n",
      "[Parallel(n_jobs=-1)]: Done 473 tasks      | elapsed:   44.7s\n",
      "[Parallel(n_jobs=-1)]: Done 504 tasks      | elapsed:   48.5s\n",
      "[Parallel(n_jobs=-1)]: Done 537 tasks      | elapsed:   52.9s\n",
      "[Parallel(n_jobs=-1)]: Done 570 tasks      | elapsed:   57.2s\n",
      "[Parallel(n_jobs=-1)]: Done 605 tasks      | elapsed:  1.0min\n",
      "[Parallel(n_jobs=-1)]: Done 640 tasks      | elapsed:  1.1min\n",
      "[Parallel(n_jobs=-1)]: Done 677 tasks      | elapsed:  1.2min\n",
      "[Parallel(n_jobs=-1)]: Done 714 tasks      | elapsed:  1.3min\n",
      "[Parallel(n_jobs=-1)]: Done 753 tasks      | elapsed:  1.4min\n",
      "[Parallel(n_jobs=-1)]: Done 792 tasks      | elapsed:  1.5min\n",
      "[Parallel(n_jobs=-1)]: Done 833 tasks      | elapsed:  1.6min\n",
      "[Parallel(n_jobs=-1)]: Done 874 tasks      | elapsed:  1.7min\n",
      "[Parallel(n_jobs=-1)]: Done 917 tasks      | elapsed:  1.8min\n",
      "[Parallel(n_jobs=-1)]: Done 960 tasks      | elapsed:  1.9min\n",
      "[Parallel(n_jobs=-1)]: Done 1005 tasks      | elapsed:  2.0min\n",
      "[Parallel(n_jobs=-1)]: Done 1050 tasks      | elapsed:  2.0min\n",
      "[Parallel(n_jobs=-1)]: Done 1097 tasks      | elapsed:  2.1min\n",
      "[Parallel(n_jobs=-1)]: Done 1144 tasks      | elapsed:  2.2min\n",
      "[Parallel(n_jobs=-1)]: Done 1193 tasks      | elapsed:  2.3min\n",
      "[Parallel(n_jobs=-1)]: Done 1242 tasks      | elapsed:  2.4min\n",
      "[Parallel(n_jobs=-1)]: Done 1293 tasks      | elapsed:  2.6min\n",
      "[Parallel(n_jobs=-1)]: Done 1344 tasks      | elapsed:  2.7min\n",
      "[Parallel(n_jobs=-1)]: Done 1397 tasks      | elapsed:  2.8min\n",
      "[Parallel(n_jobs=-1)]: Done 1450 tasks      | elapsed:  3.0min\n",
      "[Parallel(n_jobs=-1)]: Done 1505 tasks      | elapsed:  3.2min\n",
      "[Parallel(n_jobs=-1)]: Done 1560 tasks      | elapsed:  3.4min\n",
      "[Parallel(n_jobs=-1)]: Done 1617 tasks      | elapsed:  3.6min\n",
      "[Parallel(n_jobs=-1)]: Done 1674 tasks      | elapsed:  3.8min\n",
      "[Parallel(n_jobs=-1)]: Done 1733 tasks      | elapsed:  4.0min\n",
      "[Parallel(n_jobs=-1)]: Done 1792 tasks      | elapsed:  4.3min\n",
      "[Parallel(n_jobs=-1)]: Done 1853 tasks      | elapsed:  4.4min\n",
      "[Parallel(n_jobs=-1)]: Done 1914 tasks      | elapsed:  4.5min\n",
      "[Parallel(n_jobs=-1)]: Done 1977 tasks      | elapsed:  4.6min\n",
      "[Parallel(n_jobs=-1)]: Done 2040 tasks      | elapsed:  4.8min\n",
      "[Parallel(n_jobs=-1)]: Done 2105 tasks      | elapsed:  4.9min\n",
      "[Parallel(n_jobs=-1)]: Done 2170 tasks      | elapsed:  5.1min\n",
      "[Parallel(n_jobs=-1)]: Done 2237 tasks      | elapsed:  5.3min\n",
      "[Parallel(n_jobs=-1)]: Done 2304 tasks      | elapsed:  5.6min\n",
      "[Parallel(n_jobs=-1)]: Done 2373 tasks      | elapsed:  5.9min\n",
      "[Parallel(n_jobs=-1)]: Done 2442 tasks      | elapsed:  6.2min\n",
      "[Parallel(n_jobs=-1)]: Done 2513 tasks      | elapsed:  6.5min\n",
      "[Parallel(n_jobs=-1)]: Done 2584 tasks      | elapsed:  6.9min\n",
      "[Parallel(n_jobs=-1)]: Done 2657 tasks      | elapsed:  7.3min\n",
      "[Parallel(n_jobs=-1)]: Done 2730 tasks      | elapsed:  7.6min\n",
      "[Parallel(n_jobs=-1)]: Done 2805 tasks      | elapsed:  7.8min\n",
      "[Parallel(n_jobs=-1)]: Done 2880 tasks      | elapsed:  7.9min\n",
      "[Parallel(n_jobs=-1)]: Done 2957 tasks      | elapsed:  8.1min\n",
      "[Parallel(n_jobs=-1)]: Done 3034 tasks      | elapsed:  8.4min\n",
      "[Parallel(n_jobs=-1)]: Done 3113 tasks      | elapsed:  8.7min\n",
      "[Parallel(n_jobs=-1)]: Done 3192 tasks      | elapsed:  9.0min\n",
      "[Parallel(n_jobs=-1)]: Done 3273 tasks      | elapsed:  9.5min\n",
      "[Parallel(n_jobs=-1)]: Done 3354 tasks      | elapsed:  9.9min\n",
      "[Parallel(n_jobs=-1)]: Done 3437 tasks      | elapsed: 10.5min\n",
      "[Parallel(n_jobs=-1)]: Done 3520 tasks      | elapsed: 11.0min\n",
      "[Parallel(n_jobs=-1)]: Done 3600 out of 3600 | elapsed: 11.5min finished\n"
     ]
    },
    {
     "data": {
      "text/plain": [
       "GridSearchCV(cv=10, estimator=DecisionTreeClassifier(), n_jobs=-1,\n",
       "             param_grid={'max_depth': [4, 6, 8, 10],\n",
       "                         'max_features': [100, 200, 300, 400, 500, 600, 700,\n",
       "                                          800, 900],\n",
       "                         'min_samples_split': [2, 12, 22, 32, 42, 52, 62, 72,\n",
       "                                               82, 92]},\n",
       "             verbose=10)"
      ]
     },
     "execution_count": 128,
     "metadata": {},
     "output_type": "execute_result"
    }
   ],
   "source": [
    "parameters = {\n",
    "                'max_depth': [x for x in range(4,11,2)],\n",
    "                'min_samples_split': [x for x in range(2,100,10)],\n",
    "                'max_features': [x for x in range(100,1000,100)]                \n",
    "}\n",
    "\n",
    "clfDT = DecisionTreeClassifier()\n",
    "clfGSDT = GridSearchCV(clfDT, param_grid = parameters, cv = 10, n_jobs  = -1, verbose = 10)\n",
    "clfGSDT.fit(X_train1, y_train1)"
   ]
  },
  {
   "cell_type": "code",
   "execution_count": 129,
   "metadata": {},
   "outputs": [
    {
     "name": "stdout",
     "output_type": "stream",
     "text": [
      "Best Estimator: \n"
     ]
    },
    {
     "data": {
      "text/plain": [
       "DecisionTreeClassifier(max_depth=10, max_features=900)"
      ]
     },
     "execution_count": 129,
     "metadata": {},
     "output_type": "execute_result"
    }
   ],
   "source": [
    "DT = clfGSDT.best_estimator_\n",
    "print('Best Estimator: ')\n",
    "DT"
   ]
  },
  {
   "cell_type": "code",
   "execution_count": 130,
   "metadata": {},
   "outputs": [
    {
     "name": "stdout",
     "output_type": "stream",
     "text": [
      "Best score:  0.8364624505928854\n"
     ]
    }
   ],
   "source": [
    "print('Best score: ', clfGSDT.best_score_)"
   ]
  },
  {
   "cell_type": "code",
   "execution_count": 131,
   "metadata": {},
   "outputs": [],
   "source": [
    "DT.fit(X_train1,y_train1)\n",
    "y_pred = DT.predict(X_test1)"
   ]
  },
  {
   "cell_type": "code",
   "execution_count": 132,
   "metadata": {},
   "outputs": [
    {
     "name": "stdout",
     "output_type": "stream",
     "text": [
      "              precision    recall  f1-score   support\n",
      "\n",
      "         0.0       0.84      0.93      0.88      1889\n",
      "         1.0       0.93      0.82      0.87      1906\n",
      "\n",
      "    accuracy                           0.88      3795\n",
      "   macro avg       0.88      0.88      0.88      3795\n",
      "weighted avg       0.88      0.88      0.88      3795\n",
      "\n",
      "Accuracy :  0.877733860342556\n"
     ]
    }
   ],
   "source": [
    "print(classification_report(y_test1,y_pred))\n",
    "print(\"Accuracy : \",accuracy_score(y_test1,y_pred))"
   ]
  },
  {
   "cell_type": "code",
   "execution_count": 133,
   "metadata": {},
   "outputs": [
    {
     "data": {
      "text/plain": [
       "array([[1762,  127],\n",
       "       [ 337, 1569]], dtype=int64)"
      ]
     },
     "execution_count": 133,
     "metadata": {},
     "output_type": "execute_result"
    }
   ],
   "source": [
    "confusion_matrix(y_test1,y_pred)"
   ]
  },
  {
   "cell_type": "markdown",
   "metadata": {},
   "source": [
    "### Random Forest"
   ]
  },
  {
   "cell_type": "code",
   "execution_count": 134,
   "metadata": {},
   "outputs": [],
   "source": [
    "clfRF = RandomForestClassifier(random_state=42)\n"
   ]
  },
  {
   "cell_type": "code",
   "execution_count": 135,
   "metadata": {},
   "outputs": [],
   "source": [
    "param_grid ={\n",
    "    'n_estimators':[100,300],\n",
    "    'max_features':['auto','sqrt','log2'],\n",
    "    'max_depth':[4,5,6,7,8],\n",
    "    'criterion':['gini','entropy']\n",
    "    }"
   ]
  },
  {
   "cell_type": "code",
   "execution_count": 136,
   "metadata": {},
   "outputs": [
    {
     "data": {
      "text/plain": [
       "GridSearchCV(cv=5, estimator=RandomForestClassifier(random_state=42), n_jobs=-1,\n",
       "             param_grid={'criterion': ['gini', 'entropy'],\n",
       "                         'max_depth': [4, 5, 6, 7, 8],\n",
       "                         'max_features': ['auto', 'sqrt', 'log2'],\n",
       "                         'n_estimators': [100, 300]})"
      ]
     },
     "execution_count": 136,
     "metadata": {},
     "output_type": "execute_result"
    }
   ],
   "source": [
    "clf_rfgs = GridSearchCV(estimator=clfRF,param_grid=param_grid,cv=5,n_jobs=-1)\n",
    "clf_rfgs.fit(X_train1,y_train1)"
   ]
  },
  {
   "cell_type": "code",
   "execution_count": 137,
   "metadata": {},
   "outputs": [
    {
     "name": "stdout",
     "output_type": "stream",
     "text": [
      "[[1713  176]\n",
      " [ 248 1658]]\n",
      "0.888274044795784\n"
     ]
    }
   ],
   "source": [
    "y_pred = clf_rfgs.predict(X_test1)\n",
    "print(confusion_matrix(y_test1,y_pred))\n",
    "print(accuracy_score(y_test1,y_pred))"
   ]
  },
  {
   "cell_type": "code",
   "execution_count": 138,
   "metadata": {},
   "outputs": [
    {
     "name": "stdout",
     "output_type": "stream",
     "text": [
      "              precision    recall  f1-score   support\n",
      "\n",
      "         0.0       0.87      0.91      0.89      1889\n",
      "         1.0       0.90      0.87      0.89      1906\n",
      "\n",
      "    accuracy                           0.89      3795\n",
      "   macro avg       0.89      0.89      0.89      3795\n",
      "weighted avg       0.89      0.89      0.89      3795\n",
      "\n",
      "Accuracy RF:  0.888274044795784\n"
     ]
    }
   ],
   "source": [
    "print(classification_report(y_test1,y_pred))\n",
    "print(\"Accuracy RF: \",accuracy_score(y_test1,y_pred))"
   ]
  },
  {
   "cell_type": "markdown",
   "metadata": {},
   "source": [
    "### XGBOOST"
   ]
  },
  {
   "cell_type": "code",
   "execution_count": 139,
   "metadata": {},
   "outputs": [],
   "source": [
    "clfXGB = XGBClassifier()\n",
    "params = {\n",
    "    \"colsample_bytree\": (0.7, 0.3),\n",
    "    \"gamma\": (0, 0.5),\n",
    "    \"learning_rate\": (0.03,0.3), # default 0.1 \n",
    "    \"max_depth\": (2,6), # default 3\n",
    "    \"n_estimators\": (100, 150), # default 100\n",
    "    \"subsample\": (0.6,0.4)\n",
    "}"
   ]
  },
  {
   "cell_type": "code",
   "execution_count": 140,
   "metadata": {},
   "outputs": [
    {
     "data": {
      "text/plain": [
       "GridSearchCV(cv=5,\n",
       "             estimator=XGBClassifier(base_score=None, booster=None,\n",
       "                                     colsample_bylevel=None,\n",
       "                                     colsample_bynode=None,\n",
       "                                     colsample_bytree=None, gamma=None,\n",
       "                                     gpu_id=None, importance_type='gain',\n",
       "                                     interaction_constraints=None,\n",
       "                                     learning_rate=None, max_delta_step=None,\n",
       "                                     max_depth=None, min_child_weight=None,\n",
       "                                     missing=nan, monotone_constraints=None,\n",
       "                                     n_estimators=100, n_jobs=None,\n",
       "                                     num_parallel_tree=None, random_state=None,\n",
       "                                     reg_alpha=None, reg_lambda=None,\n",
       "                                     scale_pos_weight=None, subsample=None,\n",
       "                                     tree_method=None, validate_parameters=None,\n",
       "                                     verbosity=None),\n",
       "             n_jobs=-1,\n",
       "             param_grid={'colsample_bytree': (0.7, 0.3), 'gamma': (0, 0.5),\n",
       "                         'learning_rate': (0.03, 0.3), 'max_depth': (2, 6),\n",
       "                         'n_estimators': (100, 150), 'subsample': (0.6, 0.4)})"
      ]
     },
     "execution_count": 140,
     "metadata": {},
     "output_type": "execute_result"
    }
   ],
   "source": [
    "clf_xgbgs = GridSearchCV(estimator=clfXGB,param_grid=params,cv=5,n_jobs=-1)\n",
    "clf_xgbgs.fit(X_train1,y_train1)"
   ]
  },
  {
   "cell_type": "code",
   "execution_count": 141,
   "metadata": {},
   "outputs": [
    {
     "name": "stdout",
     "output_type": "stream",
     "text": [
      "[[1831   58]\n",
      " [  57 1849]]\n",
      "0.9696969696969697\n"
     ]
    }
   ],
   "source": [
    "y_pred = clf_xgbgs.predict(X_test1)\n",
    "print(confusion_matrix(y_test1,y_pred))\n",
    "print(accuracy_score(y_test1,y_pred))"
   ]
  },
  {
   "cell_type": "code",
   "execution_count": 142,
   "metadata": {},
   "outputs": [
    {
     "name": "stdout",
     "output_type": "stream",
     "text": [
      "              precision    recall  f1-score   support\n",
      "\n",
      "         0.0       0.97      0.97      0.97      1889\n",
      "         1.0       0.97      0.97      0.97      1906\n",
      "\n",
      "    accuracy                           0.97      3795\n",
      "   macro avg       0.97      0.97      0.97      3795\n",
      "weighted avg       0.97      0.97      0.97      3795\n",
      "\n",
      "Accuracy XGB:  0.9696969696969697\n"
     ]
    }
   ],
   "source": [
    "print(classification_report(y_test1,y_pred))\n",
    "print(\"Accuracy XGB: \",accuracy_score(y_test1,y_pred))"
   ]
  },
  {
   "cell_type": "markdown",
   "metadata": {},
   "source": [
    "### SVM"
   ]
  },
  {
   "cell_type": "code",
   "execution_count": 143,
   "metadata": {},
   "outputs": [],
   "source": [
    "clfSVM = SVC()\n",
    "params = {\n",
    "     'C':[1,10,100,1000],\n",
    "     'gamma':[1,0.1,0.001,0.0001], \n",
    "     'kernel':['linear','rbf']\n",
    "}\n"
   ]
  },
  {
   "cell_type": "code",
   "execution_count": 144,
   "metadata": {},
   "outputs": [
    {
     "data": {
      "text/plain": [
       "GridSearchCV(cv=5, estimator=SVC(), n_jobs=-1,\n",
       "             param_grid={'C': [1, 10, 100, 1000],\n",
       "                         'gamma': [1, 0.1, 0.001, 0.0001],\n",
       "                         'kernel': ['linear', 'rbf']})"
      ]
     },
     "execution_count": 144,
     "metadata": {},
     "output_type": "execute_result"
    }
   ],
   "source": [
    "clf_svmgs = GridSearchCV(estimator=clfSVM,param_grid=params,cv=5,n_jobs=-1)\n",
    "clf_svmgs.fit(X_train1,y_train1)"
   ]
  },
  {
   "cell_type": "code",
   "execution_count": 145,
   "metadata": {},
   "outputs": [
    {
     "name": "stdout",
     "output_type": "stream",
     "text": [
      "[[1851   38]\n",
      " [   5 1901]]\n",
      "0.98866930171278\n"
     ]
    }
   ],
   "source": [
    "y_pred = clf_svmgs.predict(X_test1)\n",
    "print(confusion_matrix(y_test1,y_pred))\n",
    "print(accuracy_score(y_test1,y_pred))"
   ]
  },
  {
   "cell_type": "code",
   "execution_count": 146,
   "metadata": {},
   "outputs": [
    {
     "name": "stdout",
     "output_type": "stream",
     "text": [
      "              precision    recall  f1-score   support\n",
      "\n",
      "         0.0       1.00      0.98      0.99      1889\n",
      "         1.0       0.98      1.00      0.99      1906\n",
      "\n",
      "    accuracy                           0.99      3795\n",
      "   macro avg       0.99      0.99      0.99      3795\n",
      "weighted avg       0.99      0.99      0.99      3795\n",
      "\n",
      "Accuracy svm:  0.98866930171278\n"
     ]
    }
   ],
   "source": [
    "print(classification_report(y_test1,y_pred))\n",
    "print(\"Accuracy svm: \",accuracy_score(y_test1,y_pred))"
   ]
  },
  {
   "cell_type": "code",
   "execution_count": null,
   "metadata": {},
   "outputs": [],
   "source": []
  }
 ],
 "metadata": {
  "kernelspec": {
   "display_name": "Python 3",
   "language": "python",
   "name": "python3"
  },
  "language_info": {
   "codemirror_mode": {
    "name": "ipython",
    "version": 3
   },
   "file_extension": ".py",
   "mimetype": "text/x-python",
   "name": "python",
   "nbconvert_exporter": "python",
   "pygments_lexer": "ipython3",
   "version": "3.7.7"
  }
 },
 "nbformat": 4,
 "nbformat_minor": 4
}
